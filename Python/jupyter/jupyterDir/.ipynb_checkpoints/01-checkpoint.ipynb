{
 "cells": [
  {
   "cell_type": "code",
   "execution_count": 1,
   "id": "bc834371",
   "metadata": {},
   "outputs": [],
   "source": [
    "symbols = ['BTCUSDT', 'ETHUSDT', 'LUNAUSDT', 'SOLUSDT', 'UNIUSDT', 'AVAXUSDT', 'QNTUSDT', 'BNBUSDT', 'GALAUSDT', 'XRPUSDT', 'SHIBUSDT', 'ENJUSDT', 'DOTUSDT', 'SANDUSDT', 'DOGEUSDT', 'VETUSDT', 'NEARUSDT', 'ONEUSDT', 'XLMUSDT', 'MANAUSDT', 'TRXUSDT', 'XTZUSDT', 'BCHUSDT', 'FILUSDT', 'ATOMUSDT',\n",
    "           'KLAYUSDT', 'AAVEUSDT', 'HNTUSDT', 'EGLDUSDT', 'ADAUSDT', 'LINKUSDT', 'MATICUSDT', 'EOSUSDT', 'THETAUSDT', 'LTCUSDT', 'NEOUSDT', 'ETCUSDT', 'XMRUSDT', 'TFUELUSDT', 'FTMUSDT', 'ALGOUSDT', 'HBARUSDT', 'FTTUSDT', 'MKRUSDT', 'AXSUSDT', 'GRTUSDT', 'CAKEUSDT', 'ICPUSDT', 'FLOWUSDT', 'XECUSDT']\n"
   ]
  },
  {
   "cell_type": "code",
   "execution_count": 2,
   "id": "11dbef24",
   "metadata": {},
   "outputs": [],
   "source": [
    "import pandas as pd"
   ]
  },
  {
   "cell_type": "code",
   "execution_count": 17,
   "id": "0e000f2e",
   "metadata": {},
   "outputs": [],
   "source": [
    "posframe = pd.DataFrame(symbols)"
   ]
  },
  {
   "cell_type": "code",
   "execution_count": 12,
   "id": "88c149dd",
   "metadata": {},
   "outputs": [],
   "source": [
    "posframe.columns = ['Currency']"
   ]
  },
  {
   "cell_type": "code",
   "execution_count": 21,
   "id": "39b1a197",
   "metadata": {},
   "outputs": [],
   "source": [
    "posframe['position'] = 0"
   ]
  },
  {
   "cell_type": "code",
   "execution_count": 24,
   "id": "104fa9e4",
   "metadata": {},
   "outputs": [],
   "source": [
    "posframe['quantity'] = 0"
   ]
  },
  {
   "cell_type": "code",
   "execution_count": null,
   "id": "ceafc2dc",
   "metadata": {},
   "outputs": [],
   "source": [
    "posframe.to_csv('positioncheck',index=False)"
   ]
  }
 ],
 "metadata": {
  "kernelspec": {
   "display_name": "Python 3 (ipykernel)",
   "language": "python",
   "name": "python3"
  },
  "language_info": {
   "codemirror_mode": {
    "name": "ipython",
    "version": 3
   },
   "file_extension": ".py",
   "mimetype": "text/x-python",
   "name": "python",
   "nbconvert_exporter": "python",
   "pygments_lexer": "ipython3",
   "version": "3.9.12"
  }
 },
 "nbformat": 4,
 "nbformat_minor": 5
}
